{
  "nbformat": 4,
  "nbformat_minor": 0,
  "metadata": {
    "colab": {
      "name": "DigitRecognizerKaggle.ipynb",
      "provenance": [],
      "collapsed_sections": [],
      "machine_shape": "hm"
    },
    "kernelspec": {
      "name": "python3",
      "display_name": "Python 3"
    }
  },
  "cells": [
    {
      "cell_type": "code",
      "metadata": {
        "id": "9r-JC8dDU2wS",
        "colab_type": "code",
        "colab": {}
      },
      "source": [
        "#Import Essential Libraries\n",
        "import pandas as pd\n",
        "import numpy as np\n",
        "from tensorflow import keras\n",
        "from keras import models\n",
        "from keras import layers\n",
        "from keras.utils.np_utils import to_categorical\n",
        "from google.colab import files\n",
        "from sklearn.model_selection import train_test_split\n",
        "\n",
        "#Normalize Training Images\n",
        "xTrain = pd.read_csv(\"digitTrain.csv\")\n",
        "xTrain.drop([\"label\"], axis = 1, inplace = True)\n",
        "xTrain = xTrain.values.reshape(-1, 28, 28, 1) / 255\n",
        "\n",
        "#Training Labels\n",
        "yTrain = to_categorical(pd.read_csv(\"digitTrain.csv\")[\"label\"].values)\n",
        "\n",
        "#Split Training Data and Validation Data (80:20 ratio)\n",
        "xTrain, xVal, yTrain, yVal = train_test_split(xTrain, yTrain, test_size = 0.2, random_state = 1)"
      ],
      "execution_count": 0,
      "outputs": []
    },
    {
      "cell_type": "code",
      "metadata": {
        "id": "Pc9wt-RPeodW",
        "colab_type": "code",
        "colab": {}
      },
      "source": [
        "#Build Convolutional Neural Network\n",
        "model = models.Sequential([\n",
        "        layers.Conv2D(32, kernel_size = (3, 3), activation = \"relu\", input_shape = (28, 28, 1)),\n",
        "        layers.MaxPooling2D(pool_size = (2, 2)),\n",
        "        layers.Conv2D(64, kernel_size = (3, 3), activation = \"relu\"),\n",
        "        layers.MaxPooling2D(pool_size = (2, 2)),\n",
        "        layers.Dropout(0.25),\n",
        "        layers.Flatten(),\n",
        "        layers.Dense(128, activation = \"relu\"),\n",
        "        layers.Dropout(0.5),\n",
        "        layers.Dense(10, activation = \"softmax\")\n",
        "        ])\n",
        "\n",
        "#Compile the Model\n",
        "model.compile(optimizer = \"adam\", loss = \"categorical_crossentropy\", metrics = [\"accuracy\"])\n",
        "\n",
        "#Train the Model\n",
        "model.fit(xTrain, yTrain, epochs = 10, batch_size = 128, validation_data = (xVal, yVal))"
      ],
      "execution_count": 0,
      "outputs": []
    },
    {
      "cell_type": "code",
      "metadata": {
        "id": "WDaqC7VKOlhQ",
        "colab_type": "code",
        "colab": {}
      },
      "source": [
        "#Normalize Testing Images\n",
        "xTest = pd.read_csv(\"digitTest.csv\")\n",
        "xTest = xTest.values.reshape(-1, 28, 28, 1) / 255\n",
        "\n",
        "#Model's Predictions on Testing Images\n",
        "predictions = np.argmax(model.predict(xTest), axis = 1)\n",
        "\n",
        "#Store Predictions in a Data Frame\n",
        "submissions = pd.read_csv(\"digitSampleSubmission.csv\")\n",
        "submissions.drop([\"Label\"], axis = 1, inplace = True)\n",
        "submissions[\"Label\"] = predictions\n",
        "\n",
        "#Download Predictions CSV\n",
        "submissions.to_csv(\"actualDigitSubmission.csv\", index = False)\n",
        "files.download(\"actualDigitSubmission.csv\")"
      ],
      "execution_count": 0,
      "outputs": []
    }
  ]
}